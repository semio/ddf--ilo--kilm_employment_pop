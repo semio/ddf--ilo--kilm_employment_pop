{
 "cells": [
  {
   "cell_type": "code",
   "execution_count": 1,
   "metadata": {
    "collapsed": true
   },
   "outputs": [],
   "source": [
    "import pandas as pd\n",
    "import numpy as np\n",
    "import os\n",
    "\n",
    "from ddf_utils.str import to_concept_id\n",
    "from ddf_utils.index import create_index_file"
   ]
  },
  {
   "cell_type": "code",
   "execution_count": null,
   "metadata": {
    "collapsed": true
   },
   "outputs": [],
   "source": []
  },
  {
   "cell_type": "code",
   "execution_count": null,
   "metadata": {
    "collapsed": true
   },
   "outputs": [],
   "source": []
  },
  {
   "cell_type": "code",
   "execution_count": 2,
   "metadata": {
    "collapsed": true
   },
   "outputs": [],
   "source": [
    "source = 'source/kilm02.xlsx'"
   ]
  },
  {
   "cell_type": "code",
   "execution_count": 3,
   "metadata": {
    "collapsed": true
   },
   "outputs": [],
   "source": [
    "data = pd.read_excel(source, skiprows=2)"
   ]
  },
  {
   "cell_type": "code",
   "execution_count": 4,
   "metadata": {
    "collapsed": false
   },
   "outputs": [
    {
     "data": {
      "text/html": [
       "<div>\n",
       "<table border=\"1\" class=\"dataframe\">\n",
       "  <thead>\n",
       "    <tr style=\"text-align: right;\">\n",
       "      <th></th>\n",
       "      <th>Country (code)</th>\n",
       "      <th>Country</th>\n",
       "      <th>Region</th>\n",
       "      <th>Sub-region (broad)</th>\n",
       "      <th>Sub-region (detailed)</th>\n",
       "      <th>Income group (code)</th>\n",
       "      <th>Income group</th>\n",
       "      <th>Year</th>\n",
       "      <th>Sex (code)</th>\n",
       "      <th>Sex</th>\n",
       "      <th>Age group (code)</th>\n",
       "      <th>Age group</th>\n",
       "      <th>Employment ('000)</th>\n",
       "      <th>Population ('000)</th>\n",
       "      <th>Employment- to-population ratio</th>\n",
       "      <th>Repository (code)</th>\n",
       "      <th>Repository</th>\n",
       "    </tr>\n",
       "  </thead>\n",
       "  <tbody>\n",
       "    <tr>\n",
       "      <th>0</th>\n",
       "      <td>AFG</td>\n",
       "      <td>Afghanistan</td>\n",
       "      <td>Asia and the Pacific</td>\n",
       "      <td>Southern Asia</td>\n",
       "      <td>NaN</td>\n",
       "      <td>I</td>\n",
       "      <td>Low income</td>\n",
       "      <td>1991</td>\n",
       "      <td>MF</td>\n",
       "      <td>Male and female</td>\n",
       "      <td>Total</td>\n",
       "      <td>15+</td>\n",
       "      <td>3047.871094</td>\n",
       "      <td>6646.708008</td>\n",
       "      <td>45.855350</td>\n",
       "      <td>TRENDS</td>\n",
       "      <td>Trends Econometric Models</td>\n",
       "    </tr>\n",
       "    <tr>\n",
       "      <th>1</th>\n",
       "      <td>AFG</td>\n",
       "      <td>Afghanistan</td>\n",
       "      <td>Asia and the Pacific</td>\n",
       "      <td>Southern Asia</td>\n",
       "      <td>NaN</td>\n",
       "      <td>I</td>\n",
       "      <td>Low income</td>\n",
       "      <td>1991</td>\n",
       "      <td>MF</td>\n",
       "      <td>Male and female</td>\n",
       "      <td>Youth</td>\n",
       "      <td>15-24</td>\n",
       "      <td>861.978271</td>\n",
       "      <td>2439.979004</td>\n",
       "      <td>35.327282</td>\n",
       "      <td>TRENDS</td>\n",
       "      <td>Trends Econometric Models</td>\n",
       "    </tr>\n",
       "    <tr>\n",
       "      <th>2</th>\n",
       "      <td>AFG</td>\n",
       "      <td>Afghanistan</td>\n",
       "      <td>Asia and the Pacific</td>\n",
       "      <td>Southern Asia</td>\n",
       "      <td>NaN</td>\n",
       "      <td>I</td>\n",
       "      <td>Low income</td>\n",
       "      <td>1991</td>\n",
       "      <td>MF</td>\n",
       "      <td>Male and female</td>\n",
       "      <td>Adult</td>\n",
       "      <td>25+</td>\n",
       "      <td>2185.893066</td>\n",
       "      <td>4206.729004</td>\n",
       "      <td>51.961823</td>\n",
       "      <td>TRENDS</td>\n",
       "      <td>Trends Econometric Models</td>\n",
       "    </tr>\n",
       "    <tr>\n",
       "      <th>3</th>\n",
       "      <td>AFG</td>\n",
       "      <td>Afghanistan</td>\n",
       "      <td>Asia and the Pacific</td>\n",
       "      <td>Southern Asia</td>\n",
       "      <td>NaN</td>\n",
       "      <td>I</td>\n",
       "      <td>Low income</td>\n",
       "      <td>1991</td>\n",
       "      <td>M</td>\n",
       "      <td>Male</td>\n",
       "      <td>Total</td>\n",
       "      <td>15+</td>\n",
       "      <td>2590.974609</td>\n",
       "      <td>3398.583984</td>\n",
       "      <td>76.236885</td>\n",
       "      <td>TRENDS</td>\n",
       "      <td>Trends Econometric Models</td>\n",
       "    </tr>\n",
       "    <tr>\n",
       "      <th>4</th>\n",
       "      <td>AFG</td>\n",
       "      <td>Afghanistan</td>\n",
       "      <td>Asia and the Pacific</td>\n",
       "      <td>Southern Asia</td>\n",
       "      <td>NaN</td>\n",
       "      <td>I</td>\n",
       "      <td>Low income</td>\n",
       "      <td>1991</td>\n",
       "      <td>M</td>\n",
       "      <td>Male</td>\n",
       "      <td>Youth</td>\n",
       "      <td>15-24</td>\n",
       "      <td>712.678101</td>\n",
       "      <td>1268.593994</td>\n",
       "      <td>56.178581</td>\n",
       "      <td>TRENDS</td>\n",
       "      <td>Trends Econometric Models</td>\n",
       "    </tr>\n",
       "  </tbody>\n",
       "</table>\n",
       "</div>"
      ],
      "text/plain": [
       "  Country (code)      Country                Region Sub-region (broad)  \\\n",
       "0            AFG  Afghanistan  Asia and the Pacific      Southern Asia   \n",
       "1            AFG  Afghanistan  Asia and the Pacific      Southern Asia   \n",
       "2            AFG  Afghanistan  Asia and the Pacific      Southern Asia   \n",
       "3            AFG  Afghanistan  Asia and the Pacific      Southern Asia   \n",
       "4            AFG  Afghanistan  Asia and the Pacific      Southern Asia   \n",
       "\n",
       "  Sub-region (detailed) Income group (code) Income group  Year Sex (code)  \\\n",
       "0                   NaN                   I   Low income  1991         MF   \n",
       "1                   NaN                   I   Low income  1991         MF   \n",
       "2                   NaN                   I   Low income  1991         MF   \n",
       "3                   NaN                   I   Low income  1991          M   \n",
       "4                   NaN                   I   Low income  1991          M   \n",
       "\n",
       "               Sex Age group (code) Age group  Employment ('000)  \\\n",
       "0  Male and female            Total       15+        3047.871094   \n",
       "1  Male and female            Youth     15-24         861.978271   \n",
       "2  Male and female            Adult       25+        2185.893066   \n",
       "3             Male            Total       15+        2590.974609   \n",
       "4             Male            Youth     15-24         712.678101   \n",
       "\n",
       "   Population ('000)  Employment- to-population ratio Repository (code)  \\\n",
       "0        6646.708008                        45.855350            TRENDS   \n",
       "1        2439.979004                        35.327282            TRENDS   \n",
       "2        4206.729004                        51.961823            TRENDS   \n",
       "3        3398.583984                        76.236885            TRENDS   \n",
       "4        1268.593994                        56.178581            TRENDS   \n",
       "\n",
       "                  Repository  \n",
       "0  Trends Econometric Models  \n",
       "1  Trends Econometric Models  \n",
       "2  Trends Econometric Models  \n",
       "3  Trends Econometric Models  \n",
       "4  Trends Econometric Models  "
      ]
     },
     "execution_count": 4,
     "metadata": {},
     "output_type": "execute_result"
    }
   ],
   "source": [
    "data.head()"
   ]
  },
  {
   "cell_type": "code",
   "execution_count": null,
   "metadata": {
    "collapsed": true
   },
   "outputs": [],
   "source": []
  },
  {
   "cell_type": "code",
   "execution_count": null,
   "metadata": {
    "collapsed": true
   },
   "outputs": [],
   "source": []
  },
  {
   "cell_type": "code",
   "execution_count": 6,
   "metadata": {
    "collapsed": true
   },
   "outputs": [],
   "source": [
    "# country"
   ]
  },
  {
   "cell_type": "code",
   "execution_count": 7,
   "metadata": {
    "collapsed": true
   },
   "outputs": [],
   "source": [
    "country = data[['Country (code)', 'Country']].drop_duplicates().copy()"
   ]
  },
  {
   "cell_type": "code",
   "execution_count": 8,
   "metadata": {
    "collapsed": true
   },
   "outputs": [],
   "source": [
    "country.columns = [\n",
    "    'country', 'name'\n",
    "]"
   ]
  },
  {
   "cell_type": "code",
   "execution_count": 9,
   "metadata": {
    "collapsed": true
   },
   "outputs": [],
   "source": [
    "country['country'] = country['country'].map(to_concept_id)"
   ]
  },
  {
   "cell_type": "code",
   "execution_count": 12,
   "metadata": {
    "collapsed": false
   },
   "outputs": [],
   "source": [
    "country.to_csv('../ddf--entities--country.csv', index=False)"
   ]
  },
  {
   "cell_type": "code",
   "execution_count": null,
   "metadata": {
    "collapsed": true
   },
   "outputs": [],
   "source": []
  },
  {
   "cell_type": "code",
   "execution_count": 13,
   "metadata": {
    "collapsed": true
   },
   "outputs": [],
   "source": [
    "# age group"
   ]
  },
  {
   "cell_type": "code",
   "execution_count": 18,
   "metadata": {
    "collapsed": true
   },
   "outputs": [],
   "source": [
    "age = data[['Age group (code)', 'Age group']].drop_duplicates().copy()\n",
    "age.columns = ['age_group', 'name']\n",
    "age['name'] = 'Age ' + age['name']\n",
    "age['age_group'] = age['age_group'].map(to_concept_id)\n",
    "age.to_csv('../ddf--entities--age_group.csv', index=False)"
   ]
  },
  {
   "cell_type": "code",
   "execution_count": 19,
   "metadata": {
    "collapsed": false
   },
   "outputs": [
    {
     "data": {
      "text/html": [
       "<div>\n",
       "<table border=\"1\" class=\"dataframe\">\n",
       "  <thead>\n",
       "    <tr style=\"text-align: right;\">\n",
       "      <th></th>\n",
       "      <th>age_group</th>\n",
       "      <th>name</th>\n",
       "    </tr>\n",
       "  </thead>\n",
       "  <tbody>\n",
       "    <tr>\n",
       "      <th>0</th>\n",
       "      <td>total</td>\n",
       "      <td>Age 15+</td>\n",
       "    </tr>\n",
       "    <tr>\n",
       "      <th>1</th>\n",
       "      <td>youth</td>\n",
       "      <td>Age 15-24</td>\n",
       "    </tr>\n",
       "    <tr>\n",
       "      <th>2</th>\n",
       "      <td>adult</td>\n",
       "      <td>Age 25+</td>\n",
       "    </tr>\n",
       "  </tbody>\n",
       "</table>\n",
       "</div>"
      ],
      "text/plain": [
       "  age_group       name\n",
       "0     total    Age 15+\n",
       "1     youth  Age 15-24\n",
       "2     adult    Age 25+"
      ]
     },
     "execution_count": 19,
     "metadata": {},
     "output_type": "execute_result"
    }
   ],
   "source": [
    "age"
   ]
  },
  {
   "cell_type": "code",
   "execution_count": null,
   "metadata": {
    "collapsed": true
   },
   "outputs": [],
   "source": []
  },
  {
   "cell_type": "code",
   "execution_count": 20,
   "metadata": {
    "collapsed": true
   },
   "outputs": [],
   "source": [
    "# sex"
   ]
  },
  {
   "cell_type": "code",
   "execution_count": 21,
   "metadata": {
    "collapsed": true
   },
   "outputs": [],
   "source": [
    "sex = data[['Sex (code)', 'Sex']].drop_duplicates().copy()\n",
    "sex.columns = ['sex', 'name']\n",
    "\n",
    "sex['sex'] = sex['sex'].map(to_concept_id)\n",
    "\n",
    "sex.to_csv('../ddf--entities--sex.csv', index=False)"
   ]
  },
  {
   "cell_type": "code",
   "execution_count": 22,
   "metadata": {
    "collapsed": false
   },
   "outputs": [
    {
     "data": {
      "text/html": [
       "<div>\n",
       "<table border=\"1\" class=\"dataframe\">\n",
       "  <thead>\n",
       "    <tr style=\"text-align: right;\">\n",
       "      <th></th>\n",
       "      <th>sex</th>\n",
       "      <th>name</th>\n",
       "    </tr>\n",
       "  </thead>\n",
       "  <tbody>\n",
       "    <tr>\n",
       "      <th>0</th>\n",
       "      <td>mf</td>\n",
       "      <td>Male and female</td>\n",
       "    </tr>\n",
       "    <tr>\n",
       "      <th>3</th>\n",
       "      <td>m</td>\n",
       "      <td>Male</td>\n",
       "    </tr>\n",
       "    <tr>\n",
       "      <th>6</th>\n",
       "      <td>f</td>\n",
       "      <td>Female</td>\n",
       "    </tr>\n",
       "  </tbody>\n",
       "</table>\n",
       "</div>"
      ],
      "text/plain": [
       "  sex             name\n",
       "0  mf  Male and female\n",
       "3   m             Male\n",
       "6   f           Female"
      ]
     },
     "execution_count": 22,
     "metadata": {},
     "output_type": "execute_result"
    }
   ],
   "source": [
    "sex"
   ]
  },
  {
   "cell_type": "code",
   "execution_count": null,
   "metadata": {
    "collapsed": true
   },
   "outputs": [],
   "source": []
  },
  {
   "cell_type": "code",
   "execution_count": 23,
   "metadata": {
    "collapsed": false
   },
   "outputs": [
    {
     "data": {
      "text/plain": [
       "Index(['Country (code)', 'Country', 'Region', 'Sub-region (broad)',\n",
       "       'Sub-region (detailed)', 'Income group (code)', 'Income group', 'Year',\n",
       "       'Sex (code)', 'Sex', 'Age group (code)', 'Age group',\n",
       "       'Employment ('000)', 'Population ('000)',\n",
       "       'Employment- to-population ratio', 'Repository (code)', 'Repository'],\n",
       "      dtype='object')"
      ]
     },
     "execution_count": 23,
     "metadata": {},
     "output_type": "execute_result"
    }
   ],
   "source": [
    "data.columns"
   ]
  },
  {
   "cell_type": "code",
   "execution_count": 24,
   "metadata": {
    "collapsed": true
   },
   "outputs": [],
   "source": [
    "discs = ['Name', 'Year', 'Country', 'Sex', 'Age Group']\n",
    "\n",
    "conc = [\"Employment ('000)\", \n",
    "        \"Population ('000)\", \n",
    "        \"Employment- to-population ratio\"]"
   ]
  },
  {
   "cell_type": "code",
   "execution_count": null,
   "metadata": {
    "collapsed": true
   },
   "outputs": [],
   "source": []
  },
  {
   "cell_type": "code",
   "execution_count": 25,
   "metadata": {
    "collapsed": true
   },
   "outputs": [],
   "source": [
    "cdf = pd.DataFrame([], columns=['concept', 'name', 'concept_type'])\n",
    "\n",
    "cdf['name'] = [*discs, *conc]\n",
    "\n",
    "cdf['concept'] = cdf['name'].map(to_concept_id)"
   ]
  },
  {
   "cell_type": "code",
   "execution_count": 26,
   "metadata": {
    "collapsed": true
   },
   "outputs": [],
   "source": [
    "cdf.loc[5:, 'concept_type'] = 'measure'\n",
    "cdf.loc[0, 'concept_type'] = 'string'\n",
    "cdf.loc[1, 'concept_type'] = 'time'\n",
    "cdf.loc[2:4, 'concept_type'] = 'entity_domain'"
   ]
  },
  {
   "cell_type": "code",
   "execution_count": 28,
   "metadata": {
    "collapsed": false
   },
   "outputs": [],
   "source": [
    "cdf.to_csv('../ddf--concepts.csv', index=False)"
   ]
  },
  {
   "cell_type": "code",
   "execution_count": null,
   "metadata": {
    "collapsed": true
   },
   "outputs": [],
   "source": []
  },
  {
   "cell_type": "code",
   "execution_count": 29,
   "metadata": {
    "collapsed": true
   },
   "outputs": [],
   "source": [
    "# datapoints"
   ]
  },
  {
   "cell_type": "code",
   "execution_count": 37,
   "metadata": {
    "collapsed": true
   },
   "outputs": [],
   "source": [
    "dps = data[['Country (code)', 'Sex (code)', 'Age group (code)', 'Year', *conc]].copy()"
   ]
  },
  {
   "cell_type": "code",
   "execution_count": 38,
   "metadata": {
    "collapsed": false
   },
   "outputs": [
    {
     "data": {
      "text/html": [
       "<div>\n",
       "<table border=\"1\" class=\"dataframe\">\n",
       "  <thead>\n",
       "    <tr style=\"text-align: right;\">\n",
       "      <th></th>\n",
       "      <th>Country (code)</th>\n",
       "      <th>Sex (code)</th>\n",
       "      <th>Age group (code)</th>\n",
       "      <th>Year</th>\n",
       "      <th>Employment ('000)</th>\n",
       "      <th>Population ('000)</th>\n",
       "      <th>Employment- to-population ratio</th>\n",
       "    </tr>\n",
       "  </thead>\n",
       "  <tbody>\n",
       "    <tr>\n",
       "      <th>0</th>\n",
       "      <td>AFG</td>\n",
       "      <td>MF</td>\n",
       "      <td>Total</td>\n",
       "      <td>1991</td>\n",
       "      <td>3047.871094</td>\n",
       "      <td>6646.708008</td>\n",
       "      <td>45.855350</td>\n",
       "    </tr>\n",
       "    <tr>\n",
       "      <th>1</th>\n",
       "      <td>AFG</td>\n",
       "      <td>MF</td>\n",
       "      <td>Youth</td>\n",
       "      <td>1991</td>\n",
       "      <td>861.978271</td>\n",
       "      <td>2439.979004</td>\n",
       "      <td>35.327282</td>\n",
       "    </tr>\n",
       "    <tr>\n",
       "      <th>2</th>\n",
       "      <td>AFG</td>\n",
       "      <td>MF</td>\n",
       "      <td>Adult</td>\n",
       "      <td>1991</td>\n",
       "      <td>2185.893066</td>\n",
       "      <td>4206.729004</td>\n",
       "      <td>51.961823</td>\n",
       "    </tr>\n",
       "    <tr>\n",
       "      <th>3</th>\n",
       "      <td>AFG</td>\n",
       "      <td>M</td>\n",
       "      <td>Total</td>\n",
       "      <td>1991</td>\n",
       "      <td>2590.974609</td>\n",
       "      <td>3398.583984</td>\n",
       "      <td>76.236885</td>\n",
       "    </tr>\n",
       "    <tr>\n",
       "      <th>4</th>\n",
       "      <td>AFG</td>\n",
       "      <td>M</td>\n",
       "      <td>Youth</td>\n",
       "      <td>1991</td>\n",
       "      <td>712.678101</td>\n",
       "      <td>1268.593994</td>\n",
       "      <td>56.178581</td>\n",
       "    </tr>\n",
       "  </tbody>\n",
       "</table>\n",
       "</div>"
      ],
      "text/plain": [
       "  Country (code) Sex (code) Age group (code)  Year  Employment ('000)  \\\n",
       "0            AFG         MF            Total  1991        3047.871094   \n",
       "1            AFG         MF            Youth  1991         861.978271   \n",
       "2            AFG         MF            Adult  1991        2185.893066   \n",
       "3            AFG          M            Total  1991        2590.974609   \n",
       "4            AFG          M            Youth  1991         712.678101   \n",
       "\n",
       "   Population ('000)  Employment- to-population ratio  \n",
       "0        6646.708008                        45.855350  \n",
       "1        2439.979004                        35.327282  \n",
       "2        4206.729004                        51.961823  \n",
       "3        3398.583984                        76.236885  \n",
       "4        1268.593994                        56.178581  "
      ]
     },
     "execution_count": 38,
     "metadata": {},
     "output_type": "execute_result"
    }
   ],
   "source": [
    "dps.head()"
   ]
  },
  {
   "cell_type": "code",
   "execution_count": 39,
   "metadata": {
    "collapsed": true
   },
   "outputs": [],
   "source": [
    "dps.columns = ['country', 'sex', 'age_group', 'year', *[to_concept_id(x) for x in conc]]\n"
   ]
  },
  {
   "cell_type": "code",
   "execution_count": 40,
   "metadata": {
    "collapsed": true
   },
   "outputs": [],
   "source": [
    "dps['country'] = dps['country'].map(to_concept_id)\n",
    "dps['sex'] = dps['sex'].map(to_concept_id)\n",
    "\n",
    "dps['age_group'] = dps['age_group'].str.replace('+', '_plus').map(to_concept_id)"
   ]
  },
  {
   "cell_type": "code",
   "execution_count": 41,
   "metadata": {
    "collapsed": true
   },
   "outputs": [],
   "source": [
    "dps = dps.set_index(['country', 'sex', 'age_group', 'year'])\n"
   ]
  },
  {
   "cell_type": "code",
   "execution_count": 42,
   "metadata": {
    "collapsed": true
   },
   "outputs": [],
   "source": [
    "for k, df in dps.items():\n",
    "    df_ = df.reset_index()\n",
    "    path = '../ddf--datapoints--{}--by--country--sex--age_group--year.csv'.format(k)\n",
    "    df_.to_csv(path, index=False)"
   ]
  },
  {
   "cell_type": "code",
   "execution_count": null,
   "metadata": {
    "collapsed": true
   },
   "outputs": [],
   "source": []
  },
  {
   "cell_type": "code",
   "execution_count": 43,
   "metadata": {
    "collapsed": false
   },
   "outputs": [
    {
     "data": {
      "text/html": [
       "<div>\n",
       "<table border=\"1\" class=\"dataframe\">\n",
       "  <thead>\n",
       "    <tr style=\"text-align: right;\">\n",
       "      <th></th>\n",
       "      <th>key</th>\n",
       "      <th>value</th>\n",
       "      <th>file</th>\n",
       "    </tr>\n",
       "  </thead>\n",
       "  <tbody>\n",
       "    <tr>\n",
       "      <th>0</th>\n",
       "      <td>concept</td>\n",
       "      <td>name</td>\n",
       "      <td>ddf--concepts.csv</td>\n",
       "    </tr>\n",
       "    <tr>\n",
       "      <th>1</th>\n",
       "      <td>concept</td>\n",
       "      <td>concept_type</td>\n",
       "      <td>ddf--concepts.csv</td>\n",
       "    </tr>\n",
       "    <tr>\n",
       "      <th>0</th>\n",
       "      <td>country,sex,age_group,year</td>\n",
       "      <td>employment_000</td>\n",
       "      <td>ddf--datapoints--employment_000--by--country--...</td>\n",
       "    </tr>\n",
       "    <tr>\n",
       "      <th>0</th>\n",
       "      <td>country,sex,age_group,year</td>\n",
       "      <td>employment_to_population_ratio</td>\n",
       "      <td>ddf--datapoints--employment_to_population_rati...</td>\n",
       "    </tr>\n",
       "    <tr>\n",
       "      <th>0</th>\n",
       "      <td>country,sex,age_group,year</td>\n",
       "      <td>population_000</td>\n",
       "      <td>ddf--datapoints--population_000--by--country--...</td>\n",
       "    </tr>\n",
       "    <tr>\n",
       "      <th>0</th>\n",
       "      <td>age_group</td>\n",
       "      <td>name</td>\n",
       "      <td>ddf--entities--age_group.csv</td>\n",
       "    </tr>\n",
       "    <tr>\n",
       "      <th>0</th>\n",
       "      <td>country</td>\n",
       "      <td>name</td>\n",
       "      <td>ddf--entities--country.csv</td>\n",
       "    </tr>\n",
       "    <tr>\n",
       "      <th>0</th>\n",
       "      <td>sex</td>\n",
       "      <td>name</td>\n",
       "      <td>ddf--entities--sex.csv</td>\n",
       "    </tr>\n",
       "  </tbody>\n",
       "</table>\n",
       "</div>"
      ],
      "text/plain": [
       "                          key                           value  \\\n",
       "0                     concept                            name   \n",
       "1                     concept                    concept_type   \n",
       "0  country,sex,age_group,year                  employment_000   \n",
       "0  country,sex,age_group,year  employment_to_population_ratio   \n",
       "0  country,sex,age_group,year                  population_000   \n",
       "0                   age_group                            name   \n",
       "0                     country                            name   \n",
       "0                         sex                            name   \n",
       "\n",
       "                                                file  \n",
       "0                                  ddf--concepts.csv  \n",
       "1                                  ddf--concepts.csv  \n",
       "0  ddf--datapoints--employment_000--by--country--...  \n",
       "0  ddf--datapoints--employment_to_population_rati...  \n",
       "0  ddf--datapoints--population_000--by--country--...  \n",
       "0                       ddf--entities--age_group.csv  \n",
       "0                         ddf--entities--country.csv  \n",
       "0                             ddf--entities--sex.csv  "
      ]
     },
     "execution_count": 43,
     "metadata": {},
     "output_type": "execute_result"
    }
   ],
   "source": [
    "create_index_file('../')"
   ]
  },
  {
   "cell_type": "code",
   "execution_count": null,
   "metadata": {
    "collapsed": true
   },
   "outputs": [],
   "source": []
  }
 ],
 "metadata": {
  "kernelspec": {
   "display_name": "Python 3",
   "language": "python",
   "name": "python3"
  },
  "language_info": {
   "codemirror_mode": {
    "name": "ipython",
    "version": 3
   },
   "file_extension": ".py",
   "mimetype": "text/x-python",
   "name": "python",
   "nbconvert_exporter": "python",
   "pygments_lexer": "ipython3",
   "version": "3.5.1"
  }
 },
 "nbformat": 4,
 "nbformat_minor": 0
}
